{
 "cells": [
  {
   "cell_type": "markdown",
   "metadata": {},
   "source": [
    "<h3><font color='red'><b> Introduction to Python string </b></font></h3>\n",
    "<p>A string is a series of characters. In Python, anything inside quotes is a string. And you can use either single or double quotes. For example:</p>"
   ]
  },
  {
   "cell_type": "code",
   "execution_count": 1,
   "metadata": {},
   "outputs": [
    {
     "name": "stdout",
     "output_type": "stream",
     "text": [
      "i am single quote string\n",
      "i am double quote string\n"
     ]
    }
   ],
   "source": [
    "single_quote_string = 'i am single quote string'\n",
    "double_quote_string = \"i am double quote string\"\n",
    "\n",
    "print(single_quote_string)\n",
    "print(double_quote_string)"
   ]
  },
  {
   "cell_type": "code",
   "execution_count": 10,
   "metadata": {},
   "outputs": [
    {
     "name": "stdout",
     "output_type": "stream",
     "text": [
      "<class 'str'>\n",
      "<class 'str'>\n"
     ]
    }
   ],
   "source": [
    "print(type(single_quote_string))\n",
    "print(type(double_quote_string))"
   ]
  },
  {
   "cell_type": "markdown",
   "metadata": {},
   "source": [
    "<font color='blue'>If a string contains a single quote, you should place it in double-quotes like this:</font>"
   ]
  },
  {
   "cell_type": "code",
   "execution_count": 13,
   "metadata": {},
   "outputs": [
    {
     "name": "stdout",
     "output_type": "stream",
     "text": [
      "i am single quote inside double\" quote\n"
     ]
    }
   ],
   "source": [
    "single_in_double = 'i am single quote inside double\" quote'\n",
    "print(single_in_double)"
   ]
  },
  {
   "cell_type": "code",
   "execution_count": 14,
   "metadata": {},
   "outputs": [
    {
     "ename": "SyntaxError",
     "evalue": "unterminated string literal (detected at line 1) (419422806.py, line 1)",
     "output_type": "error",
     "traceback": [
      "\u001b[1;36m  Input \u001b[1;32mIn [14]\u001b[1;36m\u001b[0m\n\u001b[1;33m    single_in_single = 'i am single quote inside single' quote'\u001b[0m\n\u001b[1;37m                                                              ^\u001b[0m\n\u001b[1;31mSyntaxError\u001b[0m\u001b[1;31m:\u001b[0m unterminated string literal (detected at line 1)\n"
     ]
    }
   ],
   "source": [
    "single_in_single = 'i am single quote inside single' quote'\n",
    "print(single_in_single)"
   ]
  },
  {
   "cell_type": "code",
   "execution_count": 15,
   "metadata": {},
   "outputs": [
    {
     "name": "stdout",
     "output_type": "stream",
     "text": [
      "i am double quote inside single' quote\n"
     ]
    }
   ],
   "source": [
    "double_in_single = \"i am double quote inside single' quote\"\n",
    "print(double_in_single)"
   ]
  },
  {
   "cell_type": "code",
   "execution_count": 16,
   "metadata": {},
   "outputs": [
    {
     "ename": "SyntaxError",
     "evalue": "unterminated string literal (detected at line 1) (1526415082.py, line 1)",
     "output_type": "error",
     "traceback": [
      "\u001b[1;36m  Input \u001b[1;32mIn [16]\u001b[1;36m\u001b[0m\n\u001b[1;33m    double_in_double = \"i am double quote inside double\" quote\"\u001b[0m\n\u001b[1;37m                                                              ^\u001b[0m\n\u001b[1;31mSyntaxError\u001b[0m\u001b[1;31m:\u001b[0m unterminated string literal (detected at line 1)\n"
     ]
    }
   ],
   "source": [
    "double_in_double = \"i am double quote inside double\" quote\"\n",
    "print(double_in_double)"
   ]
  },
  {
   "cell_type": "code",
   "execution_count": 17,
   "metadata": {},
   "outputs": [
    {
     "name": "stdout",
     "output_type": "stream",
     "text": [
      "i am double quote inside double\" quote\n"
     ]
    }
   ],
   "source": [
    "double_in_double = \"i am double quote inside double\\\" quote\"\n",
    "print(double_in_double)"
   ]
  },
  {
   "cell_type": "code",
   "execution_count": 18,
   "metadata": {},
   "outputs": [
    {
     "name": "stdout",
     "output_type": "stream",
     "text": [
      "i am single quote inside single' quote\n"
     ]
    }
   ],
   "source": [
    "single_in_single = 'i am single quote inside single\\' quote'\n",
    "print(single_in_single)"
   ]
  },
  {
   "cell_type": "markdown",
   "metadata": {},
   "source": [
    "<h3><font color='red'><b>Creating multiline strings</b></font></h3>\n",
    "<p>To span a string multiple lines, you use triple-quotes “””…””” or ”’…”’. For example:</p>"
   ]
  },
  {
   "cell_type": "code",
   "execution_count": 20,
   "metadata": {},
   "outputs": [
    {
     "name": "stdout",
     "output_type": "stream",
     "text": [
      "i am a triple single qoute string\n",
      "i am a triple double quote string\n",
      "\n",
      "Usage: mysql command\n",
      "    -h hostname     \n",
      "    -d database name\n",
      "    -u username\n",
      "    -p password \n",
      "\n"
     ]
    }
   ],
   "source": [
    "triple_single_quote = '''i am a triple single qoute string'''\n",
    "triple_double_quote = \"\"\"i am a triple double quote string\"\"\"\n",
    "\n",
    "help_message = '''\n",
    "Usage: mysql command\n",
    "    -h hostname     \n",
    "    -d database name\n",
    "    -u username\n",
    "    -p password \n",
    "'''\n",
    "\n",
    "print(triple_single_quote)\n",
    "print(triple_double_quote)\n",
    "print(help_message)"
   ]
  },
  {
   "cell_type": "markdown",
   "metadata": {},
   "source": [
    "<h3><font color='red'><b>Using variables in Python strings with the f-strings</b></font></h3>\n",
    "<p>Sometimes, you want to use the values of variables in a string.\n",
    "\n",
    "For example, you may want to use the value of the name variable inside the message string variable:</p>\n",
    "\n",
    "<p style='color:green'>name = 'John'</br>\n",
    "message = 'Hi'</p>\n",
    "\n",
    "<p>To do it, you place the letter <b style=\"color:yellow\">f</b> before the opening quotation mark and put the brace around the variable name:</p>"
   ]
  },
  {
   "cell_type": "code",
   "execution_count": 23,
   "metadata": {},
   "outputs": [
    {
     "name": "stdout",
     "output_type": "stream",
     "text": [
      "i am ashok sahu and i am a software developer in protiviti india pvt. ltd\n",
      "i am ashok sahu and i am a software developer in protiviti india pvt. ltd\n",
      "i am ashok sahu and i am a software developer in protiviti india pvt. ltd\n"
     ]
    }
   ],
   "source": [
    "name = 'ashok sahu'\n",
    "job = 'software developer'\n",
    "company = 'protiviti india pvt. ltd'\n",
    "\n",
    "print('i am ashok sahu and i am a software developer in protiviti india pvt. ltd')\n",
    "print(f'i am {name} and i am a {job} in {company}')\n",
    "print(f\"i am {name} and i am a {job} in {company}\")\n"
   ]
  },
  {
   "cell_type": "markdown",
   "metadata": {},
   "source": [
    "<h3><font color='red'><b>Concatenating Python strings</b></font></h3>\n",
    "<p>When you place the string literals next to each other, Python automatically concatenates them into one string. For example:</p>"
   ]
  },
  {
   "cell_type": "code",
   "execution_count": 32,
   "metadata": {},
   "outputs": [
    {
     "name": "stdout",
     "output_type": "stream",
     "text": [
      "Good Morning! world\n",
      "ashok sahu\n",
      "ashok sahu\n"
     ]
    }
   ],
   "source": [
    "greeting = 'Good ' 'Morning! ' 'world'\n",
    "print(greeting)\n",
    "\n",
    "str1 = 'ashok'\n",
    "str2 = 'sahu'\n",
    "print( f'{str1} {str2}')\n",
    "print(str1 +' '+str2)"
   ]
  },
  {
   "cell_type": "markdown",
   "metadata": {},
   "source": [
    "<h3><font color='red'><b>Accessing string elements</b></font></h3>"
   ]
  },
  {
   "cell_type": "code",
   "execution_count": 39,
   "metadata": {},
   "outputs": [
    {
     "name": "stdout",
     "output_type": "stream",
     "text": [
      "ashok sahu\n",
      "a\n",
      "s\n",
      "h\n",
      "o\n",
      "k\n",
      " \n",
      "s\n",
      "u\n",
      "k\n",
      "h\n"
     ]
    }
   ],
   "source": [
    "str_string = 'ashok sahu'\n",
    "print(str_string)\n",
    "print(str_string[0])\n",
    "print(str_string[1])\n",
    "print(str_string[2])\n",
    "print(str_string[3])\n",
    "print(str_string[4])\n",
    "print(str_string[5])\n",
    "print(str_string[6])\n",
    "print(str_string[-1])\n",
    "print(str_string[-6])\n",
    "print(str_string[-8])"
   ]
  },
  {
   "cell_type": "markdown",
   "metadata": {},
   "source": [
    "<h3><font color='red'><b>Getting the length of a string</b></font></h3>\n",
    "<p>To get the length of a string, you use the <b style='color:yellow'>len()</b> function. For example:</p>"
   ]
  },
  {
   "cell_type": "code",
   "execution_count": 41,
   "metadata": {},
   "outputs": [
    {
     "name": "stdout",
     "output_type": "stream",
     "text": [
      "18\n",
      "70\n"
     ]
    }
   ],
   "source": [
    "len_string = 'i am length string'\n",
    "print(len(len_string))\n",
    "len_string1 = 'i am length stringnkfndsjhjlzsdfksdjghsjhanagewbfchxvbfnnrbkxhdfmasfdb'\n",
    "print(len(len_string1))"
   ]
  },
  {
   "cell_type": "markdown",
   "metadata": {},
   "source": [
    "<h3><font color='red'><b>Slicing strings</b></font></h3>\n",
    "<p>Slicing allows you to get a substring from a string. For example:</p>\n",
    "<pre>\n",
    "        <code>syntax:</code>\n",
    "        <code>\n",
    "           string[start:end]\n",
    "        </code>\n",
    "</pre>"
   ]
  },
  {
   "cell_type": "code",
   "execution_count": 47,
   "metadata": {},
   "outputs": [
    {
     "name": "stdout",
     "output_type": "stream",
     "text": [
      "i am a complete string\n",
      "am\n",
      "complete string\n"
     ]
    }
   ],
   "source": [
    "str_main = 'i am a complete string'\n",
    "print(str_main)\n",
    "print(str_main[2:4])\n",
    "print(str_main[7:22])"
   ]
  },
  {
   "cell_type": "markdown",
   "metadata": {},
   "source": [
    "<h3><font color='red'><b>Python strings are immutable</b></font></h3>\n",
    "<p>Python strings are immutable. It means that you cannot change the string. For example, you’ll get an error if you update one or more characters in a string:</p>"
   ]
  },
  {
   "cell_type": "code",
   "execution_count": 50,
   "metadata": {},
   "outputs": [
    {
     "name": "stdout",
     "output_type": "stream",
     "text": [
      "Python String\n",
      "P\n"
     ]
    },
    {
     "ename": "TypeError",
     "evalue": "'str' object does not support item assignment",
     "output_type": "error",
     "traceback": [
      "\u001b[1;31m---------------------------------------------------------------------------\u001b[0m",
      "\u001b[1;31mTypeError\u001b[0m                                 Traceback (most recent call last)",
      "\u001b[1;32mf:\\Python_practice\\python_tutorial.net\\01.Basics\\1.1.Fundamentals\\1.1.3.strings.ipynb Cell 24\u001b[0m in \u001b[0;36m<cell line: 4>\u001b[1;34m()\u001b[0m\n\u001b[0;32m      <a href='vscode-notebook-cell:/f%3A/Python_practice/python_tutorial.net/01.Basics/1.1.Fundamentals/1.1.3.strings.ipynb#X40sZmlsZQ%3D%3D?line=1'>2</a>\u001b[0m \u001b[39mprint\u001b[39m(\u001b[39mstr\u001b[39m)\n\u001b[0;32m      <a href='vscode-notebook-cell:/f%3A/Python_practice/python_tutorial.net/01.Basics/1.1.Fundamentals/1.1.3.strings.ipynb#X40sZmlsZQ%3D%3D?line=2'>3</a>\u001b[0m \u001b[39mprint\u001b[39m(\u001b[39mstr\u001b[39m[\u001b[39m0\u001b[39m])\n\u001b[1;32m----> <a href='vscode-notebook-cell:/f%3A/Python_practice/python_tutorial.net/01.Basics/1.1.Fundamentals/1.1.3.strings.ipynb#X40sZmlsZQ%3D%3D?line=3'>4</a>\u001b[0m \u001b[39mstr\u001b[39;49m[\u001b[39m0\u001b[39;49m] \u001b[39m=\u001b[39m \u001b[39m'\u001b[39m\u001b[39mJ\u001b[39m\u001b[39m'\u001b[39m\n\u001b[0;32m      <a href='vscode-notebook-cell:/f%3A/Python_practice/python_tutorial.net/01.Basics/1.1.Fundamentals/1.1.3.strings.ipynb#X40sZmlsZQ%3D%3D?line=4'>5</a>\u001b[0m \u001b[39mprint\u001b[39m(\u001b[39mstr\u001b[39m)\n",
      "\u001b[1;31mTypeError\u001b[0m: 'str' object does not support item assignment"
     ]
    }
   ],
   "source": [
    "str = \"Python String\"\n",
    "print(str)\n",
    "print(str[0])\n",
    "str[0] = 'J'\n",
    "print(str)"
   ]
  },
  {
   "cell_type": "markdown",
   "metadata": {},
   "source": [
    "<p style='color:blue'>When want to modify a string, you need to create a new one from the existing string. For example:</p>"
   ]
  },
  {
   "cell_type": "code",
   "execution_count": 53,
   "metadata": {},
   "outputs": [
    {
     "name": "stdout",
     "output_type": "stream",
     "text": [
      "Jython String\n"
     ]
    }
   ],
   "source": [
    "str = \"Python String\"\n",
    "new_str = 'J' + str[1:]\n",
    "print(new_str)"
   ]
  },
  {
   "cell_type": "markdown",
   "metadata": {},
   "source": []
  },
  {
   "cell_type": "markdown",
   "metadata": {},
   "source": []
  },
  {
   "cell_type": "markdown",
   "metadata": {},
   "source": []
  }
 ],
 "metadata": {
  "kernelspec": {
   "display_name": "Python 3.10.5 64-bit",
   "language": "python",
   "name": "python3"
  },
  "language_info": {
   "codemirror_mode": {
    "name": "ipython",
    "version": 3
   },
   "file_extension": ".py",
   "mimetype": "text/x-python",
   "name": "python",
   "nbconvert_exporter": "python",
   "pygments_lexer": "ipython3",
   "version": "3.10.5"
  },
  "orig_nbformat": 4,
  "vscode": {
   "interpreter": {
    "hash": "27f6fea6f47ae512550f0b8facdbd035a93e1dd89633f7bf2dd00a2502c71d0d"
   }
  }
 },
 "nbformat": 4,
 "nbformat_minor": 2
}

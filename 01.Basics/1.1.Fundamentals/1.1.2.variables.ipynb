{
 "cells": [
  {
   "cell_type": "markdown",
   "metadata": {},
   "source": [
    "<font> <b>What is a variable in Python</b> </font>\n",
    "<p>When you develop a program, you need to manage values, a lot of them. To store values, you use variables.\n",
    "\n",
    "In Python, a variable is a label that you can assign a value to it. And a variable is always associated with a value. For example:</p>"
   ]
  }
 ],
 "metadata": {
  "kernelspec": {
   "display_name": "Python 3.10.5 64-bit",
   "language": "python",
   "name": "python3"
  },
  "language_info": {
   "name": "python",
   "version": "3.10.5"
  },
  "orig_nbformat": 4,
  "vscode": {
   "interpreter": {
    "hash": "27f6fea6f47ae512550f0b8facdbd035a93e1dd89633f7bf2dd00a2502c71d0d"
   }
  }
 },
 "nbformat": 4,
 "nbformat_minor": 2
}
